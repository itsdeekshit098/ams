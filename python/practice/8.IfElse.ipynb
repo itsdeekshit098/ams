{
 "cells": [
  {
   "cell_type": "code",
   "execution_count": 1,
   "id": "2ef2e62d",
   "metadata": {},
   "outputs": [
    {
     "name": "stdout",
     "output_type": "stream",
     "text": [
      "x is 1\n"
     ]
    }
   ],
   "source": [
    "x=1\n",
    "if(x==1):\n",
    "    print(\"x is 1\")\n",
    "else:\n",
    "    print(\"x is not 1\")"
   ]
  },
  {
   "cell_type": "code",
   "execution_count": 3,
   "id": "0ae30664",
   "metadata": {},
   "outputs": [
    {
     "name": "stdout",
     "output_type": "stream",
     "text": [
      "x is 1\n"
     ]
    }
   ],
   "source": [
    "#elif\n",
    "x=1\n",
    "if(x==2):\n",
    "    print(\"x is 2\")\n",
    "elif(x==1):\n",
    "    print(\"x is 1\")\n",
    "else:\n",
    "    print(\"x is not 1\")"
   ]
  },
  {
   "cell_type": "code",
   "execution_count": 1,
   "id": "361f6972",
   "metadata": {},
   "outputs": [
    {
     "name": "stdout",
     "output_type": "stream",
     "text": [
      "total success\n"
     ]
    }
   ],
   "source": [
    "#nested if\n",
    "a=5\n",
    "if(a>1):\n",
    "    if(a==5):\n",
    "        print(\"total success\")\n",
    "    else:\n",
    "        print(\"somewhat successfull\")\n",
    "else:\n",
    "    print(\"totally unsuccessfull\")\n",
    "        "
   ]
  },
  {
   "cell_type": "code",
   "execution_count": 12,
   "id": "d747b3af",
   "metadata": {},
   "outputs": [
    {
     "name": "stdout",
     "output_type": "stream",
     "text": [
      "['a', 'b']\n"
     ]
    }
   ],
   "source": [
    "k2=list({\"a\":\"a\",\"b\":\"b\"})\n",
    "print(k2)"
   ]
  },
  {
   "cell_type": "code",
   "execution_count": 14,
   "id": "34654c8d",
   "metadata": {},
   "outputs": [
    {
     "name": "stdout",
     "output_type": "stream",
     "text": [
      "14\n",
      "a is greater\n"
     ]
    }
   ],
   "source": [
    "#shorthand if\n",
    "a=14\n",
    "b=11\n",
    "if a>b:\n",
    "    print(a)\n",
    "if a>b: print(\"a is greater\")"
   ]
  },
  {
   "cell_type": "code",
   "execution_count": 16,
   "id": "8d802c60",
   "metadata": {},
   "outputs": [
    {
     "name": "stdout",
     "output_type": "stream",
     "text": [
      "15\n",
      "b is greater\n"
     ]
    }
   ],
   "source": [
    "#short hand if else\n",
    "a=14\n",
    "b=15\n",
    "if a>b:\n",
    "    print(a)\n",
    "else:\n",
    "    print(b)\n",
    "print(\"a is greater\") if a>b else print(\"b is greater\")  "
   ]
  }
 ],
 "metadata": {
  "kernelspec": {
   "display_name": "Python 3 (ipykernel)",
   "language": "python",
   "name": "python3"
  },
  "language_info": {
   "codemirror_mode": {
    "name": "ipython",
    "version": 3
   },
   "file_extension": ".py",
   "mimetype": "text/x-python",
   "name": "python",
   "nbconvert_exporter": "python",
   "pygments_lexer": "ipython3",
   "version": "3.9.13"
  }
 },
 "nbformat": 4,
 "nbformat_minor": 5
}
