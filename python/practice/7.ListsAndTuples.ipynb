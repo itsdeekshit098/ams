{
 "cells": [
  {
   "cell_type": "code",
   "execution_count": 6,
   "id": "6d33d026",
   "metadata": {
    "slideshow": {
     "slide_type": "-"
    }
   },
   "outputs": [
    {
     "name": "stdout",
     "output_type": "stream",
     "text": [
      "the value of a is 10 and value of b is 20\n"
     ]
    }
   ],
   "source": [
    "a=10\n",
    "b=20\n",
    "print(\"the value of a is %d and value of b is %d\"%(a,b)"
   ]
  },
  {
   "cell_type": "code",
   "execution_count": 1,
   "id": "2fb28d4d",
   "metadata": {},
   "outputs": [
    {
     "name": "stdout",
     "output_type": "stream",
     "text": [
      "[1, 2, 3, 4]\n",
      "5\n",
      "[3, 4]\n",
      "[]\n"
     ]
    }
   ],
   "source": [
    "\n",
    "a=[1,2,3,4,5]\n",
    "print(a[0:4])#NOTE:the element at 4th index is not included\n",
    "print(a[-1])\n",
    "print(a[-3:-1])#here element at -1 is not included\n",
    "print(a[-1:-3])"
   ]
  },
  {
   "cell_type": "code",
   "execution_count": 21,
   "id": "92da744b",
   "metadata": {},
   "outputs": [
    {
     "name": "stdout",
     "output_type": "stream",
     "text": [
      "[1, 2, 3, 5]\n"
     ]
    }
   ],
   "source": [
    "#Write the program to remove the duplicate element of the list.\n",
    "list1=[1,2,3,1,2,2,2,5]\n",
    "list2=[]\n",
    "for i in list1:\n",
    "    if(i not in list2):\n",
    "        list2.append(i)\n",
    "print(list2)"
   ]
  },
  {
   "cell_type": "code",
   "execution_count": 24,
   "id": "0fb8f0cb",
   "metadata": {},
   "outputs": [
    {
     "name": "stdout",
     "output_type": "stream",
     "text": [
      "10\n"
     ]
    }
   ],
   "source": [
    "#Write a program to find the sum of the element in the list.\n",
    "\n",
    "list1=[1,2,3,4]\n",
    "sum=0\n",
    "for i in list1:\n",
    "    sum=sum+i\n",
    "print(sum)"
   ]
  },
  {
   "cell_type": "code",
   "execution_count": 2,
   "id": "5650e066",
   "metadata": {},
   "outputs": [
    {
     "name": "stdout",
     "output_type": "stream",
     "text": [
      "4 5 "
     ]
    }
   ],
   "source": [
    "# Write the program to find the lists consist of at least one common element.\n",
    "list1=[1,2,3,4,5]\n",
    "list2=[0,9,5,8,4]\n",
    "for i in list1:\n",
    "    for j in list2:\n",
    "        if(i==j):\n",
    "            print(i,end=\" \")\n",
    "            \n",
    "        "
   ]
  },
  {
   "cell_type": "code",
   "execution_count": 6,
   "id": "82543da1",
   "metadata": {},
   "outputs": [
    {
     "name": "stdout",
     "output_type": "stream",
     "text": [
      "[1, 9, 0, 8, 3, 4, 5]\n"
     ]
    }
   ],
   "source": [
    "#changing a value by replacing with more than one value\n",
    "k=[1,2,3,4,5]\n",
    "k[1:2]=[9,0,8]#here we know that [1:2] means 1 is included 2 is not included so we might get a dout like where two values will be inserted the answer is the element at index 1 will be changed and the extra elements are added after 1 by moving the other elements that is the reason why only 2 is deleted and 3 is moved\n",
    "print(k)"
   ]
  },
  {
   "cell_type": "code",
   "execution_count": 13,
   "id": "f5d24e69",
   "metadata": {},
   "outputs": [
    {
     "name": "stdout",
     "output_type": "stream",
     "text": [
      "[1, 2, 3, 4, (1, 2, 3, 4)]\n",
      "[1, 2, 3, 4, 1, 2, 3, 4]\n"
     ]
    }
   ],
   "source": [
    "#difference blw append and extend\n",
    "l1=[1,2,3,4]\n",
    "t1=(1,2,3,4)\n",
    "l1.append(t1)#appends\n",
    "print(l1)\n",
    "l2=[1,2,3,4]\n",
    "t2=(1,2,3,4)\n",
    "l2.extend(t2)#extend NOTE:The extend() method does not have to append lists, you can add any iterable object (tuples, sets, dictionaries etc.).\n",
    "print(l2)"
   ]
  },
  {
   "cell_type": "code",
   "execution_count": 34,
   "id": "29190f59",
   "metadata": {},
   "outputs": [
    {
     "name": "stdout",
     "output_type": "stream",
     "text": [
      "[1, 4]\n",
      "[9, 7, 6]\n",
      "[1, 3, 4, 5]\n",
      "[0, 7, 6]\n",
      "[]\n"
     ]
    }
   ],
   "source": [
    "#removing list items\n",
    "\n",
    "#1)pop(),pop(index) method\n",
    "l1=[1,2,4,5]\n",
    "l1.pop()#removes element at specified index if any index isnt given as an argument then the element at last is removed\n",
    "l1.pop(1)#u cannot pass more than one argument here\n",
    "print(l1)\n",
    "\n",
    "\n",
    "#2)remove(ele) \n",
    "#method ==remove the element specified or given as argument\n",
    "l2=[9,8,7,6]\n",
    "l2.remove(8)#remove(9,8,7) is invalid bcz here tooo u cannot pass more than one argument \n",
    "print(l2)\n",
    "\n",
    "#3)del keyword\n",
    "#note del is a keyword so syntax changles\n",
    "l3=[1,2,3,4,5]\n",
    "del l3[1] #ele at index 1 is deleted \n",
    "print(l3)\n",
    "l4=[0,9,8,7,6]\n",
    "del l4[1:3]#del l4[1,3] is invalid u can use either a specific index or slices w.r.t del keyword\n",
    "print(l4)\n",
    "\n",
    "#4)clear() method==empties whole list\n",
    "l5=[1,2,3,4,5]\n",
    "l5.clear()\n",
    "print(l5)\n"
   ]
  },
  {
   "cell_type": "code",
   "execution_count": 38,
   "id": "ff9db258",
   "metadata": {},
   "outputs": [
    {
     "name": "stdout",
     "output_type": "stream",
     "text": [
      "0\n",
      "1\n",
      "2\n",
      "3\n",
      "4\n",
      "new\n",
      "1\n",
      "2\n",
      "3\n",
      "4\n"
     ]
    }
   ],
   "source": [
    "#range \n",
    "for i in range(5): #here range starts from 0 and ends before 5\n",
    "    print(i)\n",
    "print(\"new\")\n",
    "for i in range(1,5):\n",
    "    print(i)"
   ]
  },
  {
   "cell_type": "code",
   "execution_count": 64,
   "id": "ad30a5e7",
   "metadata": {},
   "outputs": [
    {
     "name": "stdout",
     "output_type": "stream",
     "text": [
      "1\n",
      "2\n",
      "3\n",
      "4\n",
      "[1, 2, 3, 4]\n",
      "['ansi', 'aaii']\n",
      "[1, 2, 3, 1, 1, 2]\n",
      "3\n"
     ]
    }
   ],
   "source": [
    "#list comprehension\n",
    "l6=[1,2,3,4]\n",
    "[print(i) for i in l6]\n",
    "print(l6)\n",
    "\n",
    "##\n",
    "k1=[\"ansi\",\"aaii\",\"ll\",\"oo\"]\n",
    "newlist=[i for i in k1 if \"a\" in i]#cannot use range(len(k1))\n",
    "print(newlist)\n",
    "\n",
    "##\n",
    "l1=[1,2,3,1,1,2]\n",
    "l2=[i for i in l1 if i not in l2]#why it is not working\n",
    "print(l2)\n",
    "print(l1.count(1))"
   ]
  }
 ],
 "metadata": {
  "celltoolbar": "Attachments",
  "kernelspec": {
   "display_name": "Python 3 (ipykernel)",
   "language": "python",
   "name": "python3"
  },
  "language_info": {
   "codemirror_mode": {
    "name": "ipython",
    "version": 3
   },
   "file_extension": ".py",
   "mimetype": "text/x-python",
   "name": "python",
   "nbconvert_exporter": "python",
   "pygments_lexer": "ipython3",
   "version": "3.9.13"
  }
 },
 "nbformat": 4,
 "nbformat_minor": 5
}
