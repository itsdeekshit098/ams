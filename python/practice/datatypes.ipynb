{
 "cells": [
  {
   "cell_type": "code",
   "execution_count": 16,
   "id": "6ddc357d",
   "metadata": {},
   "outputs": [
    {
     "name": "stdout",
     "output_type": "stream",
     "text": [
      "<class 'int'>\n",
      "<class 'float'>\n",
      "<class 'complex'>\n"
     ]
    }
   ],
   "source": [
    "#numeric datatypes\n",
    "a=-1\n",
    "print(type(a)) #integer\n",
    "b=2.2\n",
    "print(type(b))#float\n",
    "c=20j\n",
    "print(type(c)) #complex NOTE:numbers with only j are complex\n",
    "#d=29i if we assign a value with other than j like i it shows error"
   ]
  },
  {
   "cell_type": "code",
   "execution_count": 17,
   "id": "b5b75873",
   "metadata": {},
   "outputs": [
    {
     "name": "stdout",
     "output_type": "stream",
     "text": [
      "<class 'bool'>\n",
      "<class 'str'>\n",
      "False\n"
     ]
    }
   ],
   "source": [
    "#boolean\n",
    "a=True\n",
    "print(type(a))\n",
    "b=\"True\"\n",
    "print(type(b))\n",
    "c=bool(0)\n",
    "print(c)"
   ]
  },
  {
   "cell_type": "code",
   "execution_count": 24,
   "id": "2e0d2952",
   "metadata": {},
   "outputs": [
    {
     "name": "stdout",
     "output_type": "stream",
     "text": [
      "hansi adas\n",
      "sdfasd\n",
      "adf\n"
     ]
    }
   ],
   "source": [
    "                #string\n",
    "#single line string\n",
    "b=\"single line string\"\n",
    "#multiline string\n",
    "a=\"\"\"hansi adas\n",
    "sdfasd\n",
    "adf\"\"\"\n",
    "print(a)"
   ]
  },
  {
   "cell_type": "code",
   "execution_count": 26,
   "id": "1848d906",
   "metadata": {},
   "outputs": [
    {
     "name": "stdout",
     "output_type": "stream",
     "text": [
      "[1, 2, 3, 'hansi']\n"
     ]
    }
   ],
   "source": [
    "                #sequence data types\n",
    "\n",
    "#1)list(ordered,changeble,allows duplicate values)\n",
    "a=[1,2,3,\"hansi\"]\n",
    "print(a)\n",
    "\n",
    "\n",
    "#2)tuple"
   ]
  },
  {
   "cell_type": "code",
   "execution_count": 32,
   "id": "7af8356a",
   "metadata": {},
   "outputs": [
    {
     "name": "stdout",
     "output_type": "stream",
     "text": [
      "None\n"
     ]
    }
   ],
   "source": [
    "#nyc example for None Value\n",
    "def no_return_function():  \n",
    "    num1 = 10  \n",
    "    num2 = 20  \n",
    "    addition = num1 + num2  \n",
    "  \n",
    "number = no_return_function()  \n",
    "print( number )  \n"
   ]
  },
  {
   "cell_type": "code",
   "execution_count": 35,
   "id": "01f4a28c",
   "metadata": {},
   "outputs": [
    {
     "name": "stdout",
     "output_type": "stream",
     "text": [
      "None\n"
     ]
    }
   ],
   "source": [
    "\"\"\"This program has a function with_return that performs multiple operations and contains a return expression. As a result, if we display a number, we get None, which is given by default when there is no return statement. Here's an example showing this:\"\"\"\n",
    "def with_return( num ):  \n",
    "    if num % 4 == 0:  \n",
    "        return False  \n",
    "  \n",
    "number = with_return( 67 )  \n",
    "print( number )  \n"
   ]
  },
  {
   "cell_type": "code",
   "execution_count": 45,
   "id": "d158f435",
   "metadata": {},
   "outputs": [
    {
     "name": "stdout",
     "output_type": "stream",
     "text": [
      "hansi\n"
     ]
    }
   ],
   "source": [
    "#nonlocal keyword\n",
    "def outfunc():\n",
    "    k=10\n",
    "    def infunc():\n",
    "        nonlocal k\n",
    "        k=20\n",
    "        print(\"the value inside the infunc\",k)\n",
    "    infunc()\n",
    "    print(\"the value outside the infunc\",k)  \n",
    "print(\"hansi\")"
   ]
  }
 ],
 "metadata": {
  "kernelspec": {
   "display_name": "Python 3 (ipykernel)",
   "language": "python",
   "name": "python3"
  },
  "language_info": {
   "codemirror_mode": {
    "name": "ipython",
    "version": 3
   },
   "file_extension": ".py",
   "mimetype": "text/x-python",
   "name": "python",
   "nbconvert_exporter": "python",
   "pygments_lexer": "ipython3",
   "version": "3.9.13"
  }
 },
 "nbformat": 4,
 "nbformat_minor": 5
}
