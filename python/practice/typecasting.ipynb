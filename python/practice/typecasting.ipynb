{
 "cells": [
  {
   "cell_type": "code",
   "execution_count": 34,
   "id": "d1f51acd",
   "metadata": {},
   "outputs": [
    {
     "name": "stdout",
     "output_type": "stream",
     "text": [
      "1\n",
      "1\n",
      "1\n",
      "0\n"
     ]
    }
   ],
   "source": [
    "#casting into int \n",
    "print(int(1.0))\n",
    "print(int(\"1\")) #note only string of int can be type casted to int but not float as comment in below line\n",
    "#print(int(\"1.0\"))\n",
    "print(int(True))\n",
    "print(int(False))"
   ]
  },
  {
   "cell_type": "code",
   "execution_count": 35,
   "id": "8b5ff2cb",
   "metadata": {},
   "outputs": [
    {
     "name": "stdout",
     "output_type": "stream",
     "text": [
      "1.0\n",
      "10.0\n",
      "10.2\n",
      "1.0\n",
      "0.0\n"
     ]
    }
   ],
   "source": [
    "#castinh into float \n",
    "print(float(1))\n",
    "print(float(\"10\"))#not as in case of the integer where in which float string cannot be type casted to the int \n",
    "print(float(\"10.2\"))\n",
    "print(float(True))\n",
    "print(float(False))"
   ]
  },
  {
   "cell_type": "code",
   "execution_count": 36,
   "id": "1920b684",
   "metadata": {},
   "outputs": [
    {
     "name": "stdout",
     "output_type": "stream",
     "text": [
      "(1+0j)\n",
      "(1.3+0j)\n",
      "(1+0j)\n",
      "(10+0j)\n",
      "(10.4+0j)\n",
      "(10+2j)\n",
      "(1+0j)\n",
      "0j\n"
     ]
    }
   ],
   "source": [
    "#casting into complex\n",
    "print(complex(1))\n",
    "print(complex(1.3))\n",
    "print(complex(1.0))\n",
    "print(complex(\"10\"))\n",
    "print(complex('10.4'))\n",
    "print(complex(\"10+2j\"))\n",
    "print(complex(True))\n",
    "print(complex(False))"
   ]
  },
  {
   "cell_type": "code",
   "execution_count": 32,
   "id": "892a4d26",
   "metadata": {},
   "outputs": [
    {
     "name": "stdout",
     "output_type": "stream",
     "text": [
      "1\n",
      "1.7\n",
      "10j\n",
      "True\n",
      "1\n"
     ]
    }
   ],
   "source": [
    "#casting into string\n",
    "print(str(1))\n",
    "print(str(1.7))\n",
    "print(str(10j))\n",
    "print(str(True))\n",
    "print(str(1))"
   ]
  }
 ],
 "metadata": {
  "kernelspec": {
   "display_name": "Python 3 (ipykernel)",
   "language": "python",
   "name": "python3"
  },
  "language_info": {
   "codemirror_mode": {
    "name": "ipython",
    "version": 3
   },
   "file_extension": ".py",
   "mimetype": "text/x-python",
   "name": "python",
   "nbconvert_exporter": "python",
   "pygments_lexer": "ipython3",
   "version": "3.9.13"
  }
 },
 "nbformat": 4,
 "nbformat_minor": 5
}
