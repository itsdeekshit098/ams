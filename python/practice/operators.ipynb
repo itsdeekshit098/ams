{
 "cells": [
  {
   "cell_type": "code",
   "execution_count": 6,
   "id": "f5d2621e",
   "metadata": {},
   "outputs": [
    {
     "name": "stdout",
     "output_type": "stream",
     "text": [
      "0\n",
      "1\n",
      "True\n"
     ]
    }
   ],
   "source": [
    "#logical operators\n",
    "a=1\n",
    "b=0\n",
    "print(a and b)\n",
    "print(a or b)\n",
    "print(not(a and b))"
   ]
  },
  {
   "cell_type": "code",
   "execution_count": 12,
   "id": "3233ed6a",
   "metadata": {},
   "outputs": [
    {
     "name": "stdout",
     "output_type": "stream",
     "text": [
      "True\n",
      "False\n",
      "True\n",
      "140615652861056\n",
      "140615652857984\n",
      "140615652861056\n",
      "140615618849680\n",
      "140615618849680\n"
     ]
    }
   ],
   "source": [
    "#identity operators\n",
    "x = [\"apple\", \"banana\"]\n",
    "y = [\"apple\", \"banana\"]\n",
    "z = x\n",
    "print(x is z)\n",
    "print(x is y)\n",
    "print(x == y)\n",
    "print(id(x))\n",
    "print(id(y))\n",
    "print(id(z))\n",
    "a=20                    #dout 2\n",
    "b=20\n",
    "print(id(a))\n",
    "print(id(b))"
   ]
  },
  {
   "cell_type": "code",
   "execution_count": 14,
   "id": "d14e740b",
   "metadata": {},
   "outputs": [
    {
     "name": "stdout",
     "output_type": "stream",
     "text": [
      "True\n",
      "False\n"
     ]
    }
   ],
   "source": [
    "#membership operators\n",
    "a=\"hansi\"\n",
    "print(\"h\" in a)\n",
    "print(\"a\" not in a)"
   ]
  },
  {
   "cell_type": "code",
   "execution_count": 18,
   "id": "73d7a4aa",
   "metadata": {},
   "outputs": [
    {
     "name": "stdout",
     "output_type": "stream",
     "text": [
      "4\n",
      "7\n",
      "3\n",
      "-6\n"
     ]
    }
   ],
   "source": [
    "#bitwise operators\n",
    "print(5&6)\n",
    "print(5|6)\n",
    "print(5^6)\n",
    "print(~5)"
   ]
  },
  {
   "cell_type": "code",
   "execution_count": null,
   "id": "eb53138e",
   "metadata": {},
   "outputs": [],
   "source": []
  }
 ],
 "metadata": {
  "kernelspec": {
   "display_name": "Python 3 (ipykernel)",
   "language": "python",
   "name": "python3"
  },
  "language_info": {
   "codemirror_mode": {
    "name": "ipython",
    "version": 3
   },
   "file_extension": ".py",
   "mimetype": "text/x-python",
   "name": "python",
   "nbconvert_exporter": "python",
   "pygments_lexer": "ipython3",
   "version": "3.9.13"
  }
 },
 "nbformat": 4,
 "nbformat_minor": 5
}
