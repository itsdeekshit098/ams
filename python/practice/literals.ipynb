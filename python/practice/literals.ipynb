{
 "cells": [
  {
   "cell_type": "code",
   "execution_count": 2,
   "id": "23dad253",
   "metadata": {},
   "outputs": [
    {
     "data": {
      "text/plain": [
       "'hellohansi'"
      ]
     },
     "execution_count": 2,
     "metadata": {},
     "output_type": "execute_result"
    }
   ],
   "source": [
    "a=\"hello\\\n",
    "hansi\"\n",
    "a"
   ]
  },
  {
   "cell_type": "code",
   "execution_count": 4,
   "id": "32088328",
   "metadata": {},
   "outputs": [
    {
     "name": "stdout",
     "output_type": "stream",
     "text": [
      "30\n",
      "None\n"
     ]
    }
   ],
   "source": [
    "#example of none\n",
    "def hansi():\n",
    "    a=10\n",
    "    b=20\n",
    "    print(a+b)\n",
    "k=hansi()\n",
    "print(k)"
   ]
  },
  {
   "cell_type": "code",
   "execution_count": 15,
   "id": "63e5e9c3",
   "metadata": {},
   "outputs": [
    {
     "name": "stdout",
     "output_type": "stream",
     "text": [
      "<class 'str'>\n",
      "<class 'str'>\n",
      "<class 'str'>\n",
      "<class 'str'>\n"
     ]
    }
   ],
   "source": [
    "a=\"hasni\"\n",
    "b='hansi'\n",
    "c=\"c\"\n",
    "d='64'\n",
    "print(type(a))\n",
    "print(type(b))\n",
    "print(type(c))\n",
    "print(type(d))"
   ]
  },
  {
   "cell_type": "code",
   "execution_count": 26,
   "id": "c7f90d64",
   "metadata": {},
   "outputs": [
    {
     "data": {
      "text/plain": [
       "2.0"
      ]
     },
     "execution_count": 26,
     "metadata": {},
     "output_type": "execute_result"
    }
   ],
   "source": [
    "4.0//2 #not in floor division if there is a float value involved then the answer will be a float value"
   ]
  },
  {
   "cell_type": "code",
   "execution_count": 32,
   "id": "a8bcce41",
   "metadata": {},
   "outputs": [
    {
     "name": "stdout",
     "output_type": "stream",
     "text": [
      "3\n"
     ]
    }
   ],
   "source": [
    "x=5\n",
    "x^=6\n",
    "print(x)\n"
   ]
  },
  {
   "cell_type": "code",
   "execution_count": 34,
   "id": "56f8174a",
   "metadata": {},
   "outputs": [
    {
     "name": "stdout",
     "output_type": "stream",
     "text": [
      "1\n"
     ]
    }
   ],
   "source": [
    "x=5\n",
    "x>>=2\n",
    "print(x)"
   ]
  },
  {
   "cell_type": "code",
   "execution_count": 36,
   "id": "0ded0dc7",
   "metadata": {},
   "outputs": [
    {
     "name": "stdout",
     "output_type": "stream",
     "text": [
      "20\n"
     ]
    }
   ],
   "source": [
    "x=5\n",
    "x<<=2\n",
    "print(x)"
   ]
  },
  {
   "cell_type": "code",
   "execution_count": null,
   "id": "6ea5ea64",
   "metadata": {},
   "outputs": [],
   "source": [
    "#logical operators\n"
   ]
  }
 ],
 "metadata": {
  "kernelspec": {
   "display_name": "Python 3 (ipykernel)",
   "language": "python",
   "name": "python3"
  },
  "language_info": {
   "codemirror_mode": {
    "name": "ipython",
    "version": 3
   },
   "file_extension": ".py",
   "mimetype": "text/x-python",
   "name": "python",
   "nbconvert_exporter": "python",
   "pygments_lexer": "ipython3",
   "version": "3.9.13"
  }
 },
 "nbformat": 4,
 "nbformat_minor": 5
}
