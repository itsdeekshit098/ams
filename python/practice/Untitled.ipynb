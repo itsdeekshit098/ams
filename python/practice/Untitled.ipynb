{
 "cells": [
  {
   "cell_type": "code",
   "execution_count": 11,
   "id": "b6ba50ad",
   "metadata": {},
   "outputs": [
    {
     "data": {
      "text/plain": [
       "str"
      ]
     },
     "execution_count": 11,
     "metadata": {},
     "output_type": "execute_result"
    }
   ],
   "source": [
    "type(\"hansi\")"
   ]
  },
  {
   "cell_type": "code",
   "execution_count": 12,
   "id": "025d7e3f",
   "metadata": {},
   "outputs": [
    {
     "name": "stdout",
     "output_type": "stream",
     "text": [
      "140329466653264\n",
      "140329466653264\n"
     ]
    }
   ],
   "source": [
    "a=10\n",
    "b=10\n",
    "print(id(a))\n",
    "print(id(a))\n",
    "'''The variable b refers to the same object that a points to because Python does not create another object.'''"
   ]
  },
  {
   "cell_type": "code",
   "execution_count": null,
   "id": "64758581",
   "metadata": {},
   "outputs": [],
   "source": [
    "a=11\n",
    "b=a\n",
    "c=a\n",
    "print(id(a))\n",
    "print(id(b))\n",
    "print(id(c))"
   ]
  },
  {
   "cell_type": "code",
   "execution_count": null,
   "id": "64e90e63",
   "metadata": {},
   "outputs": [],
   "source": []
  },
  {
   "cell_type": "code",
   "execution_count": 14,
   "id": "688a4c37",
   "metadata": {},
   "outputs": [
    {
     "data": {
      "text/plain": [
       "tuple"
      ]
     },
     "execution_count": 14,
     "metadata": {},
     "output_type": "execute_result"
    }
   ],
   "source": [
    "a=(\"hansi\",)\n",
    "type(a)"
   ]
  },
  {
   "cell_type": "code",
   "execution_count": 16,
   "id": "72a3e74a",
   "metadata": {},
   "outputs": [
    {
     "name": "stdout",
     "output_type": "stream",
     "text": [
      "10\n"
     ]
    }
   ],
   "source": [
    "#Multiple Assignment\n",
    "a=10\n",
    "b,c=11,22\n",
    "d=e=44\n",
    "print(a)"
   ]
  },
  {
   "cell_type": "code",
   "execution_count": 16,
   "id": "e69df4ec",
   "metadata": {},
   "outputs": [
    {
     "name": "stdout",
     "output_type": "stream",
     "text": [
      "10\n"
     ]
    }
   ],
   "source": [
    "#Multiple Assignment\n",
    "a=10\n",
    "b,c=11,22\n",
    "d=e=44\n",
    "print(a)"
   ]
  },
  {
   "cell_type": "code",
   "execution_count": 16,
   "id": "afb8b01d",
   "metadata": {},
   "outputs": [
    {
     "name": "stdout",
     "output_type": "stream",
     "text": [
      "10\n"
     ]
    }
   ],
   "source": [
    "#Multiple Assignment\n",
    "a=10\n",
    "b,c=11,22\n",
    "d=e=44\n",
    "print(a)"
   ]
  },
  {
   "cell_type": "code",
   "execution_count": 18,
   "id": "d7649233",
   "metadata": {},
   "outputs": [
    {
     "name": "stdout",
     "output_type": "stream",
     "text": [
      "30\n"
     ]
    }
   ],
   "source": [
    "     #types of variables\n",
    "#1)local variable\n",
    "def locvar():\n",
    "    a=10\n",
    "    b=20\n",
    "    c=a+b\n",
    "    print(c)\n",
    "locvar()\n",
    "#print(c) #we cannot access c over here as it is local variable of function locvar() u cannot access it outside the "
   ]
  },
  {
   "cell_type": "code",
   "execution_count": 6,
   "id": "b91c0d59",
   "metadata": {},
   "outputs": [
    {
     "name": "stdout",
     "output_type": "stream",
     "text": [
      "199\n",
      "140288127784336\n",
      "140288127784432\n"
     ]
    }
   ],
   "source": [
    "#2)global variable\n",
    "global a\n",
    "c=a=101\n",
    "def gvar():\n",
    "    a=98\n",
    "    d=c +a\n",
    "    print(d)\n",
    "    print(id(a))\n",
    "gvar()\n",
    "print(id(a))\n",
    "#here we might think as a=101 is outside of function so it is a global variable but it is not the thing see below cell we willl use global keyword to  declare a global variable"
   ]
  },
  {
   "cell_type": "code",
   "execution_count": 26,
   "id": "af29a879",
   "metadata": {},
   "outputs": [
    {
     "name": "stdout",
     "output_type": "stream",
     "text": [
      "outside var which is not global\n",
      "var declared inside the function but which is a global one\n",
      "var declared inside the function but which is a global one\n"
     ]
    }
   ],
   "source": [
    "a=\"outside var which is not global\"\n",
    "def glvar2():\n",
    "    global a #just declared a variable\n",
    "    print(a)#as the a in above line isnt initialized with a value until the value of a outside the function is printed\n",
    "    a=\"var declared inside the function but which is a global one\"\n",
    "    print(a)#prints a in above line bczz it is global\n",
    "glvar2()\n",
    "print(a)#prints a which is inside the function instead of a outside the function bcz a inside the function is the global variable   "
   ]
  },
  {
   "cell_type": "code",
   "execution_count": 27,
   "id": "a736f963",
   "metadata": {},
   "outputs": [
    {
     "name": "stdout",
     "output_type": "stream",
     "text": [
      "10\n"
     ]
    },
    {
     "ename": "NameError",
     "evalue": "name 'a' is not defined",
     "output_type": "error",
     "traceback": [
      "\u001b[0;31m---------------------------------------------------------------------------\u001b[0m",
      "\u001b[0;31mNameError\u001b[0m                                 Traceback (most recent call last)",
      "\u001b[0;32m/var/folders/j2/7vzyj65535sdpxn_vd38sncm0000gn/T/ipykernel_2861/1142171329.py\u001b[0m in \u001b[0;36m<module>\u001b[0;34m\u001b[0m\n\u001b[1;32m      3\u001b[0m \u001b[0mprint\u001b[0m\u001b[0;34m(\u001b[0m\u001b[0ma\u001b[0m\u001b[0;34m)\u001b[0m\u001b[0;34m\u001b[0m\u001b[0;34m\u001b[0m\u001b[0m\n\u001b[1;32m      4\u001b[0m \u001b[0;32mdel\u001b[0m \u001b[0ma\u001b[0m\u001b[0;34m\u001b[0m\u001b[0;34m\u001b[0m\u001b[0m\n\u001b[0;32m----> 5\u001b[0;31m \u001b[0mprint\u001b[0m\u001b[0;34m(\u001b[0m\u001b[0ma\u001b[0m\u001b[0;34m)\u001b[0m\u001b[0;34m\u001b[0m\u001b[0;34m\u001b[0m\u001b[0m\n\u001b[0m",
      "\u001b[0;31mNameError\u001b[0m: name 'a' is not defined"
     ]
    }
   ],
   "source": [
    "#deleting a variable\n",
    "a=10\n",
    "print(a)\n",
    "del a\n",
    "print(a)"
   ]
  }
 ],
 "metadata": {
  "kernelspec": {
   "display_name": "Python 3 (ipykernel)",
   "language": "python",
   "name": "python3"
  },
  "language_info": {
   "codemirror_mode": {
    "name": "ipython",
    "version": 3
   },
   "file_extension": ".py",
   "mimetype": "text/x-python",
   "name": "python",
   "nbconvert_exporter": "python",
   "pygments_lexer": "ipython3",
   "version": "3.9.13"
  }
 },
 "nbformat": 4,
 "nbformat_minor": 5
}
