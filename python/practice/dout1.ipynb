{
 "cells": [
  {
   "cell_type": "code",
   "execution_count": 2,
   "id": "19cf13e4",
   "metadata": {},
   "outputs": [
    {
     "ename": "SyntaxError",
     "evalue": "name 'a' is assigned to before global declaration (1270514936.py, line 5)",
     "output_type": "error",
     "traceback": [
      "\u001b[0;36m  File \u001b[0;32m\"/var/folders/j2/7vzyj65535sdpxn_vd38sncm0000gn/T/ipykernel_4421/1270514936.py\"\u001b[0;36m, line \u001b[0;32m5\u001b[0m\n\u001b[0;31m    global a\u001b[0m\n\u001b[0m    ^\u001b[0m\n\u001b[0;31mSyntaxError\u001b[0m\u001b[0;31m:\u001b[0m name 'a' is assigned to before global declaration\n"
     ]
    }
   ],
   "source": [
    "#adding global variable and local variable of same name inside the function\n",
    "a=1\n",
    "def add():\n",
    "    a=20\n",
    "    global a\n",
    "    u=a+a\n",
    "    print(u)\n",
    "add()"
   ]
  },
  {
   "cell_type": "code",
   "execution_count": 4,
   "id": "aa675a1e",
   "metadata": {},
   "outputs": [
    {
     "name": "stdout",
     "output_type": "stream",
     "text": [
      "Inside function: x = 8 u = 16\n",
      "Outside function: x = 8\n"
     ]
    }
   ],
   "source": [
    "x = 4\n",
    "\n",
    "def my_function():\n",
    "    global x\n",
    "    x = 8\n",
    "    \n",
    "    u = x + x\n",
    "    print(\"Inside function: x =\", x, \"u =\", u)\n",
    "\n",
    "my_function()\n",
    "print(\"Outside function: x =\", x)\n"
   ]
  }
 ],
 "metadata": {
  "kernelspec": {
   "display_name": "Python 3 (ipykernel)",
   "language": "python",
   "name": "python3"
  },
  "language_info": {
   "codemirror_mode": {
    "name": "ipython",
    "version": 3
   },
   "file_extension": ".py",
   "mimetype": "text/x-python",
   "name": "python",
   "nbconvert_exporter": "python",
   "pygments_lexer": "ipython3",
   "version": "3.9.13"
  }
 },
 "nbformat": 4,
 "nbformat_minor": 5
}
