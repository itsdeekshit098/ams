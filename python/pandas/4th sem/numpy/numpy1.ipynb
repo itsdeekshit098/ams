{
 "cells": [
  {
   "cell_type": "raw",
   "id": "e1f13dac",
   "metadata": {},
   "source": [
    "# \"\"\"\n",
    "1)numpy arrays are faster than python lists bcz numpy is buit using c which is very much optimised with the machine\n",
    "2)numpy has array object named ndarray \n",
    "3)we can create a object of type ndarray using the array function(numpy.array()) and u should pass the list or tuple or any other array like object if u do pass multiple values without using any kind of list or tuple it shows error saying that u cant pass more values so np.array() accepts only one value bydefalult if u want to pass more than one value u need to use lists or tuple\n",
    "4)\n",
    "\"\"\""
   ]
  },
  {
   "cell_type": "markdown",
   "id": "262d487c",
   "metadata": {},
   "source": [
    "# numpy"
   ]
  },
  {
   "cell_type": "code",
   "execution_count": 16,
   "id": "8375e3a2",
   "metadata": {},
   "outputs": [
    {
     "name": "stdout",
     "output_type": "stream",
     "text": [
      "<class 'numpy.ndarray'>\n",
      "[1 2 3]\n",
      "[0 9 8]\n",
      "1\n",
      "1\n"
     ]
    }
   ],
   "source": [
    "# import numpy\n",
    "a=numpy.array(1)#creating a ndarray using the numpy.array() method or function\n",
    "print(type(a))\n",
    "#b=numpy.array(1,2) #shows error u need to use any array type object inside the array method to pass more than one value\n",
    "c=numpy.array([1,2,3])\n",
    "#or\n",
    "d=numpy.array((0,9,8))\n",
    "print(c)\n",
    "print(d)\n",
    "print(a)\n",
    "#accessing particular elements of ndarray\n",
    "print(c[0])#using [] bcz we know syntax is using [] in python to access list\n",
    "\n"
   ]
  },
  {
   "cell_type": "markdown",
   "id": "7657fa02",
   "metadata": {},
   "source": [
    "# dimension in arrays"
   ]
  },
  {
   "cell_type": "code",
   "execution_count": 36,
   "id": "f277c5dd",
   "metadata": {},
   "outputs": [
    {
     "name": "stdout",
     "output_type": "stream",
     "text": [
      "0\n",
      "1\n",
      "2\n",
      "3\n",
      "1\n"
     ]
    },
    {
     "name": "stderr",
     "output_type": "stream",
     "text": [
      "/var/folders/j2/7vzyj65535sdpxn_vd38sncm0000gn/T/ipykernel_5673/818877459.py:17: VisibleDeprecationWarning: Creating an ndarray from ragged nested sequences (which is a list-or-tuple of lists-or-tuples-or ndarrays with different lengths or shapes) is deprecated. If you meant to do this, you must specify 'dtype=object' when creating the ndarray.\n",
      "  k=np.array([[[1,2,3]],[1,2,3]])\n"
     ]
    }
   ],
   "source": [
    "import numpy as np\n",
    "a=np.array(23)\n",
    "b=np.array([1,2,3])#1 square brac\n",
    "#c=np.array([1,2,3],[4,5,6]) will show error bcz see here we are giving two different lists in the array function directly with using any kind of array onj like list,tuple e.t.c\n",
    "d=np.array([[1,2,3],[4,5,6]])#2sq\n",
    "e=np.array([[[1,2,3],[4,5,6]]])#3sq\n",
    "print(a.ndim)\n",
    "print(b.ndim)\n",
    "print(d.ndim)\n",
    "print(e.ndim)\n",
    "'''note\n",
    "1)if 0 square bracket 0 dimensio\n",
    "1 square bractet 1 dimension\n",
    "2 square bractet 2 dimension\n",
    "3 square bractet 3 dimension(note that after 2 square brac u can give some no of array type objects) if not see below\n",
    "'''\n",
    "k=np.array([[[1,2,3]],[1,2,3]])\n",
    "print(k.ndim)#it prints one bcz after one square brackets i.e, in the first list itself we gave 2 lists eventhough in them the first one is of two dimensional but overall as in first phase brackets itself we are giving values so the ndarray is of 1 dimension\n"
   ]
  },
  {
   "cell_type": "markdown",
   "id": "b10dbc63",
   "metadata": {},
   "source": [
    "\n",
    "\n",
    "# higher dimension"
   ]
  },
  {
   "cell_type": "code",
   "execution_count": 40,
   "id": "e2d88e9b",
   "metadata": {},
   "outputs": [
    {
     "name": "stdout",
     "output_type": "stream",
     "text": [
      "[[[[[1 2 3 4]]]]]\n"
     ]
    },
    {
     "data": {
      "text/plain": [
       "'In this array the innermost dimension (5th dim) has 4 elements, the 4th dim has 1 element that is the vector, the 3rd dim has 1 element that is the matrix with the vector, the 2nd dim has 1 element that is 3D array and 1st dim has 1 element that is a 4D array.'"
      ]
     },
     "execution_count": 40,
     "metadata": {},
     "output_type": "execute_result"
    }
   ],
   "source": [
    "import numpy as kk\n",
    "a=kk.array([1,2,3,4],ndmin=5)#NOTE: ndmin HERE NOT ndim\n",
    "print(a)\n",
    "\"\"\"In this array the innermost dimension (5th dim) has 4 elements, the 4th dim has 1 element that is the vector, the 3rd dim has 1 element that is the matrix with the vector, the 2nd dim has 1 element that is 3D array and 1st dim has 1 element that is a 4D array.\"\"\""
   ]
  },
  {
   "cell_type": "code",
   "execution_count": null,
   "id": "60bf20e6",
   "metadata": {},
   "outputs": [],
   "source": []
  }
 ],
 "metadata": {
  "kernelspec": {
   "display_name": "Python 3 (ipykernel)",
   "language": "python",
   "name": "python3"
  },
  "language_info": {
   "codemirror_mode": {
    "name": "ipython",
    "version": 3
   },
   "file_extension": ".py",
   "mimetype": "text/x-python",
   "name": "python",
   "nbconvert_exporter": "python",
   "pygments_lexer": "ipython3",
   "version": "3.9.13"
  }
 },
 "nbformat": 4,
 "nbformat_minor": 5
}
