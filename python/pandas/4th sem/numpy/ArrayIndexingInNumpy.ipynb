{
 "cells": [
  {
   "cell_type": "markdown",
   "id": "4420c7c8",
   "metadata": {},
   "source": [
    "# accessing elements of arrays of different dimensions"
   ]
  },
  {
   "cell_type": "markdown",
   "id": "019f72b9",
   "metadata": {},
   "source": [
    "\n",
    "# 1dimension"
   ]
  },
  {
   "cell_type": "markdown",
   "id": "220ab356",
   "metadata": {},
   "source": [
    "note:\n",
    "    1)if elements direcly in first [] then 1 dimensional\n",
    "    if elements in [] of [] then 2 dimensional(if first [] there are 2 [] but if the 2[] have elements in same dimension then the dimension of in that or else it will be 1\n",
    "    if elements in [] of [] of [] then 3 dimensional(NOTE: IF IN FIRST [] U HAVE 2[] IF THE 2 [] ARE OF SAME DIMENSION AND SAME NO OF ELE AND SIZE THEN THE DIMENSION OF WHOLE NDARRAY IS 3 OR ELSE "
   ]
  },
  {
   "cell_type": "code",
   "execution_count": 2,
   "id": "2f640366",
   "metadata": {},
   "outputs": [
    {
     "name": "stdout",
     "output_type": "stream",
     "text": [
      "3\n"
     ]
    }
   ],
   "source": [
    "import numpy as np\n",
    "a=np.array([1,2,3])\n",
    "print(a[2])"
   ]
  },
  {
   "cell_type": "markdown",
   "id": "280f293a",
   "metadata": {},
   "source": [
    "# 2dimension"
   ]
  },
  {
   "cell_type": "code",
   "execution_count": 9,
   "id": "9438d902",
   "metadata": {},
   "outputs": [
    {
     "name": "stdout",
     "output_type": "stream",
     "text": [
      "2\n",
      "2\n"
     ]
    }
   ],
   "source": [
    "b=np.array([[1,2,3],[3,4,5]])#as here elements are in [] of [] it is  2 dimensional\n",
    "print(b.ndim)\n",
    "print(b[0,1])#go inside first [] goes to 0th index elements which is [1,2,3] now then goes to ele of index 1 which is 2 here so prints 2"
   ]
  },
  {
   "cell_type": "markdown",
   "id": "d18dde07",
   "metadata": {},
   "source": [
    "# 3dimension"
   ]
  },
  {
   "cell_type": "code",
   "execution_count": 28,
   "id": "4f6b15f1",
   "metadata": {},
   "outputs": [
    {
     "name": "stdout",
     "output_type": "stream",
     "text": [
      "3\n",
      "9\n",
      "1\n"
     ]
    },
    {
     "name": "stderr",
     "output_type": "stream",
     "text": [
      "/var/folders/j2/7vzyj65535sdpxn_vd38sncm0000gn/T/ipykernel_7911/2745508937.py:4: VisibleDeprecationWarning: Creating an ndarray from ragged nested sequences (which is a list-or-tuple of lists-or-tuples-or ndarrays with different lengths or shapes) is deprecated. If you meant to do this, you must specify 'dtype=object' when creating the ndarray.\n",
      "  d=np.array([[[4,5,6],[7,8,9]],[[0,9,8]]])#here in the fisrt [] we have 2 elements [[4,5,6],[7,8,9]] and [0,9,8] now as we see the elements of first one are after 2 brace so 2 braces + once brace(of first list []) so first one is 3 dimensional then the 2nd one is in one[]\n"
     ]
    }
   ],
   "source": [
    "c=np.array([[[1,2,3],[4,5,6]],[[7,8,9],[10,11,12]]])#see here after first braces itself we have two different lists so now we cant say it as dimensional so inorder to say which dimensional we need to look at where elements are being placed as elements of the both list  are in [] od[] of [] so 3 dimenal see one more ex below u will get to know\n",
    "print(c.ndim)\n",
    "print(c[1,0,2]) #in first [] goes to 1st one i.e., [[7,8,9],[10,11,12]] then 0th index which is [7,8,9] then to 2nd element which is 9\n",
    "d=np.array([[[4,5,6],[7,8,9]],[[0,9,8]]])#here in the fisrt [] we have 2 elements [[4,5,6],[7,8,9]] and [0,9,8] now as we see the elements of first one are after 2 brace so 2 braces + once brace(of first list []) so first one is 3 dimensional then the 2nd one is in one[]\n",
    "print(d.ndim) "
   ]
  },
  {
   "cell_type": "markdown",
   "id": "6e41b8a0",
   "metadata": {},
   "source": [
    "# slicing"
   ]
  },
  {
   "cell_type": "code",
   "execution_count": 29,
   "id": "da20c308",
   "metadata": {},
   "outputs": [
    {
     "name": "stdout",
     "output_type": "stream",
     "text": [
      "[1 3 5 7]\n"
     ]
    },
    {
     "data": {
      "text/plain": [
       "'print(arr[::2]) is slicing the arr numpy array and printing every second element starting from the first element.\\n\\nIn the slicing syntax arr[start:stop:step], start and stop are optional arguments. If start and stop are not specified, the default is to start from the first element (0th index) and stop at the last element. The step argument specifies the step size for slicing.\\n\\nSo, arr[::2] means start from the first element and stop at the last element, but only include every second element. The output of the code will be [1 3 5 7].'"
      ]
     },
     "execution_count": 29,
     "metadata": {},
     "output_type": "execute_result"
    }
   ],
   "source": [
    "import numpy as np\n",
    "\n",
    "arr = np.array([1, 2, 3, 4, 5, 6, 7])\n",
    "\n",
    "print(arr[::2])\n",
    "\n",
    "\"\"\"print(arr[::2]) is slicing the arr numpy array and printing every second element starting from the first element.\n",
    "\n",
    "In the slicing syntax arr[start:stop:step], start and stop are optional arguments. If start and stop are not specified, the default is to start from the first element (0th index) and stop at the last element. The step argument specifies the step size for slicing.\n",
    "\n",
    "So, arr[::2] means start from the first element and stop at the last element, but only include every second element. The output of the code will be [1 3 5 7].\"\"\"\n"
   ]
  }
 ],
 "metadata": {
  "kernelspec": {
   "display_name": "Python 3 (ipykernel)",
   "language": "python",
   "name": "python3"
  },
  "language_info": {
   "codemirror_mode": {
    "name": "ipython",
    "version": 3
   },
   "file_extension": ".py",
   "mimetype": "text/x-python",
   "name": "python",
   "nbconvert_exporter": "python",
   "pygments_lexer": "ipython3",
   "version": "3.9.13"
  }
 },
 "nbformat": 4,
 "nbformat_minor": 5
}
